{
 "cells": [
  {
   "cell_type": "markdown",
   "id": "a2e4c4e5",
   "metadata": {},
   "source": [
    "# Training example SEAS benchmark BP3\n",
    "\n",
    "Created by Duo Li (dli@geophysik.uni-muenchen.de) and Yajing Liu (yajing.liu@mcgill.ca) \n",
    "June 30, 2022\n",
    "\n",
    "## Discription\n",
    "\n",
    "BP3-QD considers a planar, dipping fault embedded in a homogeneous, linear elastic\n",
    "half-space with a free surface where motion is plane-strain. The fault is governed by rate-and-state friction\n",
    "down dip to a distance Wf and creeps at an imposed constant rate Vp down to the in nite dip distance.\n",
    "The simulations will include the nucleation, propagation, and arrest of quasi-dynamic (BP3-QD) and fully-\n",
    "dynamic (BP3-FD) earthquakes, and aseismic slip in the post- and inter-seismic periods. The left and right\n",
    "sides of the fault are labeled with - and +, respectively.\n",
    "\n",
    "<img src=\"bp3-disp.png\" alt=\"drawing\" width=\"600\"/>\n",
    "<!-- ![image](bp3-disp.png) -->\n",
    "\n",
    "## Target\n",
    "\n",
    "Sequences of Earthquakes and Aseismic Slip (SEAS) models focus on smaller, regional-scale fault zones\n",
    "with the goal of understanding what physical factors control observations of slow slip, microseismicity, the initiation, rupture, magnitudes, and recurrence intervals of large earthquakes, as well as ground shaking and aseismic movement.\n",
    "\n",
    "## Method (Boundary element method)\n",
    "\n",
    "\n",
    "## Model setup\n",
    "\n",
    "We list the key parameters in Table 1. \n",
    "\n",
    "<img src=\"bp3-table.png\" alt=\"drawing\" width=\"600\"/>"
   ]
  },
  {
   "cell_type": "code",
   "execution_count": null,
   "id": "8d8bf054",
   "metadata": {},
   "outputs": [],
   "source": [
    "# exercise 1:BP3 dipping 60 degree\n",
    "!mpirun -n 2 tribie parameter_bp3_h100_D60_L60.txt"
   ]
  },
  {
   "cell_type": "code",
   "execution_count": null,
   "id": "38284af2",
   "metadata": {},
   "outputs": [],
   "source": [
    "import numpy as np\n",
    "import matplotlib.pyplot as plt\n",
    "\n"
   ]
  }
 ],
 "metadata": {
  "kernelspec": {
   "display_name": "Python 3 (ipykernel)",
   "language": "python",
   "name": "python3"
  },
  "language_info": {
   "codemirror_mode": {
    "name": "ipython",
    "version": 3
   },
   "file_extension": ".py",
   "mimetype": "text/x-python",
   "name": "python",
   "nbconvert_exporter": "python",
   "pygments_lexer": "ipython3",
   "version": "3.8.5"
  }
 },
 "nbformat": 4,
 "nbformat_minor": 5
}
